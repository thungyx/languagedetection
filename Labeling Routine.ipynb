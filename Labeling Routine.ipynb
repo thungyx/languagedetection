{
 "cells": [
  {
   "cell_type": "markdown",
   "metadata": {},
   "source": [
    "## Labeling Routine\n",
    "A Pigeon tool that scrolls through a particular dataset and allows for rapid labelling of images"
   ]
  },
  {
   "cell_type": "code",
   "execution_count": null,
   "metadata": {},
   "outputs": [],
   "source": [
    "import glob\n",
    "import re, os, csv\n",
    "import pandas as pd\n",
    "import multi_label_pigeon\n",
    "from pigeon import annotate\n",
    "from IPython.display import display, Image\n",
    "import time"
   ]
  },
  {
   "cell_type": "code",
   "execution_count": null,
   "metadata": {},
   "outputs": [],
   "source": [
    "PATH_MAIN = ''\n",
    "city = ''\n",
    "\n",
    "image_directories = []\n",
    "\n",
    "for filepath in glob.glob(PATH_MAIN + '/*'):\n",
    "    image_directories.append(filepath) "
   ]
  },
  {
   "cell_type": "markdown",
   "metadata": {},
   "source": [
    "### Labelling"
   ]
  },
  {
   "cell_type": "code",
   "execution_count": null,
   "metadata": {
    "scrolled": false
   },
   "outputs": [],
   "source": [
    "start, end = 0, 500 # Set the start and end indices of images to be labelled\n",
    "annotations = annotate(\n",
    "  image_directories[start:end],\n",
    "  options = ['E', 'S', 'S+E', 'Other', 'None'], # Change options accordingly\n",
    "  display_fn = lambda filename: display(Image(filename))\n",
    ")"
   ]
  },
  {
   "cell_type": "markdown",
   "metadata": {},
   "source": [
    "### Saving"
   ]
  },
  {
   "cell_type": "code",
   "execution_count": null,
   "metadata": {},
   "outputs": [],
   "source": [
    "annotations_dict = {'path': [], 'option': []}\n",
    "for item in annotations:\n",
    "    annotations_dict['path'].append(item[0])\n",
    "    annotations_dict['option'].append(item[1])\n",
    "df = pd.DataFrame.from_dict(annotations_dict)\n",
    "os.makedirs(f'./{city}', exist_ok = True)\n",
    "df.to_pickle(f'./{city}/{city}_{start}_{end}.p')"
   ]
  },
  {
   "cell_type": "markdown",
   "metadata": {},
   "source": [
    "### Combining Labels"
   ]
  },
  {
   "cell_type": "code",
   "execution_count": null,
   "metadata": {},
   "outputs": [],
   "source": [
    "city = ''"
   ]
  },
  {
   "cell_type": "code",
   "execution_count": null,
   "metadata": {},
   "outputs": [],
   "source": [
    "df_list = os.listdir(f'./{city}')"
   ]
  },
  {
   "cell_type": "code",
   "execution_count": null,
   "metadata": {},
   "outputs": [],
   "source": [
    "df_dict = {}\n",
    "for ix, file in enumerate(df_list):\n",
    "    df_dict[ix] = pd.read_pickle(f'./{city}/{file}')"
   ]
  },
  {
   "cell_type": "code",
   "execution_count": null,
   "metadata": {},
   "outputs": [],
   "source": [
    "df_combined = pd.concat([df_dict[ix] for ix in range(len(df_list))]).reset_index()\n",
    "df_combined = df_combined.reset_index().drop([\"index\"], axis = 1)\n",
    "df_combined.to_pickle(f'./{city}/{city}_combined.p')"
   ]
  }
 ],
 "metadata": {
  "kernelspec": {
   "display_name": "Python 3",
   "language": "python",
   "name": "python3"
  },
  "language_info": {
   "codemirror_mode": {
    "name": "ipython",
    "version": 3
   },
   "file_extension": ".py",
   "mimetype": "text/x-python",
   "name": "python",
   "nbconvert_exporter": "python",
   "pygments_lexer": "ipython3",
   "version": "3.7.3"
  }
 },
 "nbformat": 4,
 "nbformat_minor": 5
}
