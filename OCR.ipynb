{
 "cells": [
  {
   "cell_type": "markdown",
   "metadata": {},
   "source": [
    "## Using OCR for Language Detection"
   ]
  },
  {
   "cell_type": "code",
   "execution_count": null,
   "metadata": {},
   "outputs": [],
   "source": [
    "import pandas as pd\n",
    "import matplotlib.pyplot as plt\n",
    "import matplotlib.image as mpimg\n",
    "import random\n",
    "import easyocr\n",
    "\n",
    "from PIL import Image\n",
    "from tqdm import tqdm\n",
    "import numpy as np\n",
    "tqdm.pandas()"
   ]
  },
  {
   "cell_type": "code",
   "execution_count": null,
   "metadata": {},
   "outputs": [],
   "source": [
    "df = pd.read_csv('', index_col = 0)"
   ]
  },
  {
   "cell_type": "markdown",
   "metadata": {},
   "source": [
    "### EasyOCR"
   ]
  },
  {
   "cell_type": "code",
   "execution_count": null,
   "metadata": {},
   "outputs": [],
   "source": [
    "def run_easyocr(df):\n",
    "    \"\"\"\n",
    "    Runs EasyOCR on a set of images whose file paths are stored in the DataFrame.\n",
    "    \n",
    "    EasyOCR predicts the actual text in the image. But since we are only interested\n",
    "    in whether there is text or not, we will only save a binary output.\n",
    "    \"\"\"\n",
    "    file = df.path\n",
    "    image = mpimg.imread(file)\n",
    "    # Center crop image to avoid picking out \"Google\"\n",
    "    w, h = (int(i) * 0.95 for i in image.shape[:2])\n",
    "    c0, c1 = (i / 2 for i in image.shape[:2])\n",
    "    x = c1 - w / 2\n",
    "    y = c0 - h / 2\n",
    "    crop_img = image[int(y):int(y + h), int(x):int(x + w), :]\n",
    "    \n",
    "    result = reader.readtext(crop_img)\n",
    "    \n",
    "    df[\"result_easy\"] = result\n",
    "    \n",
    "    if len(result) > 0:\n",
    "        df[\"pred_easy\"] = 1\n",
    "    else:\n",
    "        df[\"pred_easy\"] = 0\n",
    "    \n",
    "    return df"
   ]
  },
  {
   "cell_type": "code",
   "execution_count": null,
   "metadata": {},
   "outputs": [],
   "source": [
    "reader = easyocr.Reader(['en'])\n",
    "df_0 = df[df.task == 0]\n",
    "df_0 = df_0.progress_apply(run_easyocr, axis = 1)"
   ]
  },
  {
   "cell_type": "code",
   "execution_count": null,
   "metadata": {},
   "outputs": [],
   "source": [
    "reader = easyocr.Reader(['sv'])\n",
    "df_1 = df[df.task == 1]\n",
    "df_1 = df_1.progress_apply(run_easyocr, axis = 1)"
   ]
  },
  {
   "cell_type": "code",
   "execution_count": null,
   "metadata": {},
   "outputs": [],
   "source": [
    "reader = easyocr.Reader(['ar'])\n",
    "df_2 = df[df.task == 2]\n",
    "df_2 = df_2.progress_apply(run_easyocr, axis = 1)"
   ]
  },
  {
   "cell_type": "code",
   "execution_count": null,
   "metadata": {},
   "outputs": [],
   "source": [
    "reader = easyocr.Reader(['ch_tra'])\n",
    "df_3 = df[df.task == 3]\n",
    "df_3 = df_3.progress_apply(run_easyocr, axis = 1)"
   ]
  },
  {
   "cell_type": "code",
   "execution_count": null,
   "metadata": {},
   "outputs": [],
   "source": [
    "df_easy = pd.concat([df_0, df_1, df_2, df_3]).reset_index().drop([\"index\"], axis = 1)"
   ]
  },
  {
   "cell_type": "code",
   "execution_count": null,
   "metadata": {},
   "outputs": [],
   "source": [
    "df_easy.to_pickle('')"
   ]
  },
  {
   "cell_type": "code",
   "execution_count": null,
   "metadata": {},
   "outputs": [],
   "source": [
    "def calculate_pr(df, suffix):\n",
    "    for task in range(4):\n",
    "        tp = 0\n",
    "        fp = 0\n",
    "        fn = 0\n",
    "        y_label = np.array(df[df.task == task].label)\n",
    "        y_preds = np.array(df[df.task == task][f\"pred_{suffix}\"])\n",
    "        for i in range(len(y_preds)):\n",
    "            if y_preds[i] == 1: # prediction is positive\n",
    "                if y_label[i] == 1: # TP\n",
    "                    tp += 1\n",
    "                else:\n",
    "                    fp += 1 # FP\n",
    "            elif y_label[i] == 1: # FN\n",
    "                fn += 1\n",
    "        p = tp/(tp + fp)\n",
    "        r = tp/(tp + fn)\n",
    "        f1 = 2*p*r/(p+r)\n",
    "        \n",
    "        print(f\"Task {task}\")\n",
    "        print(f\"Precision: {p}\")\n",
    "        print(f\"Recall: {r}\")\n",
    "        print(f\"F1 Score: {f1}\")"
   ]
  },
  {
   "cell_type": "code",
   "execution_count": null,
   "metadata": {},
   "outputs": [],
   "source": [
    "calculate_pr(df_easy, \"easy\")"
   ]
  },
  {
   "cell_type": "markdown",
   "metadata": {},
   "source": [
    "### Google OCR"
   ]
  },
  {
   "cell_type": "code",
   "execution_count": null,
   "metadata": {},
   "outputs": [],
   "source": [
    "pip install google-cloud-datastore\n",
    "pip install google-cloud-vision"
   ]
  },
  {
   "cell_type": "code",
   "execution_count": null,
   "metadata": {},
   "outputs": [],
   "source": [
    "from __future__ import print_function\n",
    "from google.cloud import vision\n",
    "import os\n",
    "import io\n",
    "import cv2"
   ]
  },
  {
   "cell_type": "code",
   "execution_count": null,
   "metadata": {},
   "outputs": [],
   "source": [
    "os.environ['GOOGLE_APPLICATION_CREDENTIALS'] = # JSON credentials\n",
    "client = vision.ImageAnnotatorClient()"
   ]
  },
  {
   "cell_type": "code",
   "execution_count": null,
   "metadata": {},
   "outputs": [],
   "source": [
    "paths = df.path.to_list()\n",
    "responses = []\n",
    "languages = []"
   ]
  },
  {
   "cell_type": "code",
   "execution_count": null,
   "metadata": {},
   "outputs": [],
   "source": [
    "for file in tqdm(paths):\n",
    "    with io.open(file, 'rb') as image_file:\n",
    "        content = image_file.read()\n",
    "    image = vision.Image(content=content)\n",
    "    # Get response and append\n",
    "    response = client.text_detection(image=image)\n",
    "    responses.append(response)\n",
    "    # Infer languages\n",
    "    try:\n",
    "        language = [a.language_code for a in response.full_text_annotation.pages[0].property.detected_languages]\n",
    "    except IndexError:\n",
    "        language = []\n",
    "    languages.append(language)"
   ]
  },
  {
   "cell_type": "code",
   "execution_count": null,
   "metadata": {},
   "outputs": [],
   "source": [
    "gocr_results = pd.DataFrame.from_dict({'path': paths,\n",
    "                                       'responses': responses[1:],\n",
    "                                       'languages': languages[1:]})"
   ]
  },
  {
   "cell_type": "code",
   "execution_count": null,
   "metadata": {},
   "outputs": [],
   "source": [
    "gocr_results.to_pickle('')"
   ]
  }
 ],
 "metadata": {
  "kernelspec": {
   "display_name": "Python 3",
   "language": "python",
   "name": "python3"
  },
  "language_info": {
   "codemirror_mode": {
    "name": "ipython",
    "version": 3
   },
   "file_extension": ".py",
   "mimetype": "text/x-python",
   "name": "python",
   "nbconvert_exporter": "python",
   "pygments_lexer": "ipython3",
   "version": "3.7.3"
  }
 },
 "nbformat": 4,
 "nbformat_minor": 5
}
